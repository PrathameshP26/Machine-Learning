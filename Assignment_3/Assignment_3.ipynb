{
 "cells": [
  {
   "cell_type": "code",
   "execution_count": 12,
   "metadata": {},
   "outputs": [],
   "source": [
    "import numpy as np\n",
    "import pandas as pd\n",
    "from sklearn.svm import SVC,SVR\n",
    "from sklearn.preprocessing import StandardScaler,MinMaxScaler\n",
    "from sklearn.pipeline import Pipeline\n",
    "from sklearn.model_selection import StratifiedKFold,GridSearchCV"
   ]
  },
  {
   "cell_type": "code",
   "execution_count": 6,
   "metadata": {},
   "outputs": [
    {
     "data": {
      "text/html": [
       "<div>\n",
       "<style scoped>\n",
       "    .dataframe tbody tr th:only-of-type {\n",
       "        vertical-align: middle;\n",
       "    }\n",
       "\n",
       "    .dataframe tbody tr th {\n",
       "        vertical-align: top;\n",
       "    }\n",
       "\n",
       "    .dataframe thead th {\n",
       "        text-align: right;\n",
       "    }\n",
       "</style>\n",
       "<table border=\"1\" class=\"dataframe\">\n",
       "  <thead>\n",
       "    <tr style=\"text-align: right;\">\n",
       "      <th></th>\n",
       "      <th>fixed acidity</th>\n",
       "      <th>volatile acidity</th>\n",
       "      <th>citric acid</th>\n",
       "      <th>residual sugar</th>\n",
       "      <th>chlorides</th>\n",
       "      <th>free sulfur dioxide</th>\n",
       "      <th>total sulfur dioxide</th>\n",
       "      <th>density</th>\n",
       "      <th>pH</th>\n",
       "      <th>sulphates</th>\n",
       "      <th>alcohol</th>\n",
       "      <th>quality</th>\n",
       "    </tr>\n",
       "    <tr>\n",
       "      <th>Id</th>\n",
       "      <th></th>\n",
       "      <th></th>\n",
       "      <th></th>\n",
       "      <th></th>\n",
       "      <th></th>\n",
       "      <th></th>\n",
       "      <th></th>\n",
       "      <th></th>\n",
       "      <th></th>\n",
       "      <th></th>\n",
       "      <th></th>\n",
       "      <th></th>\n",
       "    </tr>\n",
       "  </thead>\n",
       "  <tbody>\n",
       "    <tr>\n",
       "      <th>0</th>\n",
       "      <td>8.0</td>\n",
       "      <td>0.50</td>\n",
       "      <td>0.39</td>\n",
       "      <td>2.2</td>\n",
       "      <td>0.073</td>\n",
       "      <td>30.0</td>\n",
       "      <td>39.0</td>\n",
       "      <td>0.99572</td>\n",
       "      <td>3.33</td>\n",
       "      <td>0.77</td>\n",
       "      <td>12.1</td>\n",
       "      <td>6</td>\n",
       "    </tr>\n",
       "    <tr>\n",
       "      <th>1</th>\n",
       "      <td>9.3</td>\n",
       "      <td>0.30</td>\n",
       "      <td>0.73</td>\n",
       "      <td>2.3</td>\n",
       "      <td>0.092</td>\n",
       "      <td>30.0</td>\n",
       "      <td>67.0</td>\n",
       "      <td>0.99854</td>\n",
       "      <td>3.32</td>\n",
       "      <td>0.67</td>\n",
       "      <td>12.8</td>\n",
       "      <td>6</td>\n",
       "    </tr>\n",
       "    <tr>\n",
       "      <th>2</th>\n",
       "      <td>7.1</td>\n",
       "      <td>0.51</td>\n",
       "      <td>0.03</td>\n",
       "      <td>2.1</td>\n",
       "      <td>0.059</td>\n",
       "      <td>3.0</td>\n",
       "      <td>12.0</td>\n",
       "      <td>0.99660</td>\n",
       "      <td>3.52</td>\n",
       "      <td>0.73</td>\n",
       "      <td>11.3</td>\n",
       "      <td>7</td>\n",
       "    </tr>\n",
       "    <tr>\n",
       "      <th>3</th>\n",
       "      <td>8.1</td>\n",
       "      <td>0.87</td>\n",
       "      <td>0.22</td>\n",
       "      <td>2.6</td>\n",
       "      <td>0.084</td>\n",
       "      <td>11.0</td>\n",
       "      <td>65.0</td>\n",
       "      <td>0.99730</td>\n",
       "      <td>3.20</td>\n",
       "      <td>0.53</td>\n",
       "      <td>9.8</td>\n",
       "      <td>5</td>\n",
       "    </tr>\n",
       "    <tr>\n",
       "      <th>4</th>\n",
       "      <td>8.5</td>\n",
       "      <td>0.36</td>\n",
       "      <td>0.30</td>\n",
       "      <td>2.3</td>\n",
       "      <td>0.079</td>\n",
       "      <td>10.0</td>\n",
       "      <td>45.0</td>\n",
       "      <td>0.99444</td>\n",
       "      <td>3.20</td>\n",
       "      <td>1.36</td>\n",
       "      <td>9.5</td>\n",
       "      <td>6</td>\n",
       "    </tr>\n",
       "  </tbody>\n",
       "</table>\n",
       "</div>"
      ],
      "text/plain": [
       "    fixed acidity  volatile acidity  citric acid  residual sugar  chlorides  \\\n",
       "Id                                                                            \n",
       "0             8.0              0.50         0.39             2.2      0.073   \n",
       "1             9.3              0.30         0.73             2.3      0.092   \n",
       "2             7.1              0.51         0.03             2.1      0.059   \n",
       "3             8.1              0.87         0.22             2.6      0.084   \n",
       "4             8.5              0.36         0.30             2.3      0.079   \n",
       "\n",
       "    free sulfur dioxide  total sulfur dioxide  density    pH  sulphates  \\\n",
       "Id                                                                        \n",
       "0                  30.0                  39.0  0.99572  3.33       0.77   \n",
       "1                  30.0                  67.0  0.99854  3.32       0.67   \n",
       "2                   3.0                  12.0  0.99660  3.52       0.73   \n",
       "3                  11.0                  65.0  0.99730  3.20       0.53   \n",
       "4                  10.0                  45.0  0.99444  3.20       1.36   \n",
       "\n",
       "    alcohol  quality  \n",
       "Id                    \n",
       "0      12.1        6  \n",
       "1      12.8        6  \n",
       "2      11.3        7  \n",
       "3       9.8        5  \n",
       "4       9.5        6  "
      ]
     },
     "execution_count": 6,
     "metadata": {},
     "output_type": "execute_result"
    }
   ],
   "source": [
    "df = pd.read_csv('D:\\Machine_Learning\\Assignment_3\\\\train.csv',index_col=0)\n",
    "df.head()"
   ]
  },
  {
   "cell_type": "code",
   "execution_count": 8,
   "metadata": {},
   "outputs": [
    {
     "data": {
      "text/plain": [
       "Id\n",
       "0    6\n",
       "1    6\n",
       "2    7\n",
       "3    5\n",
       "4    6\n",
       "Name: quality, dtype: int64"
      ]
     },
     "execution_count": 8,
     "metadata": {},
     "output_type": "execute_result"
    }
   ],
   "source": [
    "x= df.drop('quality',axis=1)\n",
    "y=df['quality']\n",
    "y.head()"
   ]
  },
  {
   "cell_type": "markdown",
   "metadata": {},
   "source": [
    "### Linear SVM with Standard Scaling "
   ]
  },
  {
   "cell_type": "code",
   "execution_count": 14,
   "metadata": {},
   "outputs": [
    {
     "name": "stdout",
     "output_type": "stream",
     "text": [
      "Fitting 5 folds for each of 60 candidates, totalling 300 fits\n"
     ]
    },
    {
     "data": {
      "text/html": [
       "<style>#sk-container-id-1 {color: black;}#sk-container-id-1 pre{padding: 0;}#sk-container-id-1 div.sk-toggleable {background-color: white;}#sk-container-id-1 label.sk-toggleable__label {cursor: pointer;display: block;width: 100%;margin-bottom: 0;padding: 0.3em;box-sizing: border-box;text-align: center;}#sk-container-id-1 label.sk-toggleable__label-arrow:before {content: \"▸\";float: left;margin-right: 0.25em;color: #696969;}#sk-container-id-1 label.sk-toggleable__label-arrow:hover:before {color: black;}#sk-container-id-1 div.sk-estimator:hover label.sk-toggleable__label-arrow:before {color: black;}#sk-container-id-1 div.sk-toggleable__content {max-height: 0;max-width: 0;overflow: hidden;text-align: left;background-color: #f0f8ff;}#sk-container-id-1 div.sk-toggleable__content pre {margin: 0.2em;color: black;border-radius: 0.25em;background-color: #f0f8ff;}#sk-container-id-1 input.sk-toggleable__control:checked~div.sk-toggleable__content {max-height: 200px;max-width: 100%;overflow: auto;}#sk-container-id-1 input.sk-toggleable__control:checked~label.sk-toggleable__label-arrow:before {content: \"▾\";}#sk-container-id-1 div.sk-estimator input.sk-toggleable__control:checked~label.sk-toggleable__label {background-color: #d4ebff;}#sk-container-id-1 div.sk-label input.sk-toggleable__control:checked~label.sk-toggleable__label {background-color: #d4ebff;}#sk-container-id-1 input.sk-hidden--visually {border: 0;clip: rect(1px 1px 1px 1px);clip: rect(1px, 1px, 1px, 1px);height: 1px;margin: -1px;overflow: hidden;padding: 0;position: absolute;width: 1px;}#sk-container-id-1 div.sk-estimator {font-family: monospace;background-color: #f0f8ff;border: 1px dotted black;border-radius: 0.25em;box-sizing: border-box;margin-bottom: 0.5em;}#sk-container-id-1 div.sk-estimator:hover {background-color: #d4ebff;}#sk-container-id-1 div.sk-parallel-item::after {content: \"\";width: 100%;border-bottom: 1px solid gray;flex-grow: 1;}#sk-container-id-1 div.sk-label:hover label.sk-toggleable__label {background-color: #d4ebff;}#sk-container-id-1 div.sk-serial::before {content: \"\";position: absolute;border-left: 1px solid gray;box-sizing: border-box;top: 0;bottom: 0;left: 50%;z-index: 0;}#sk-container-id-1 div.sk-serial {display: flex;flex-direction: column;align-items: center;background-color: white;padding-right: 0.2em;padding-left: 0.2em;position: relative;}#sk-container-id-1 div.sk-item {position: relative;z-index: 1;}#sk-container-id-1 div.sk-parallel {display: flex;align-items: stretch;justify-content: center;background-color: white;position: relative;}#sk-container-id-1 div.sk-item::before, #sk-container-id-1 div.sk-parallel-item::before {content: \"\";position: absolute;border-left: 1px solid gray;box-sizing: border-box;top: 0;bottom: 0;left: 50%;z-index: -1;}#sk-container-id-1 div.sk-parallel-item {display: flex;flex-direction: column;z-index: 1;position: relative;background-color: white;}#sk-container-id-1 div.sk-parallel-item:first-child::after {align-self: flex-end;width: 50%;}#sk-container-id-1 div.sk-parallel-item:last-child::after {align-self: flex-start;width: 50%;}#sk-container-id-1 div.sk-parallel-item:only-child::after {width: 0;}#sk-container-id-1 div.sk-dashed-wrapped {border: 1px dashed gray;margin: 0 0.4em 0.5em 0.4em;box-sizing: border-box;padding-bottom: 0.4em;background-color: white;}#sk-container-id-1 div.sk-label label {font-family: monospace;font-weight: bold;display: inline-block;line-height: 1.2em;}#sk-container-id-1 div.sk-label-container {text-align: center;}#sk-container-id-1 div.sk-container {/* jupyter's `normalize.less` sets `[hidden] { display: none; }` but bootstrap.min.css set `[hidden] { display: none !important; }` so we also need the `!important` here to be able to override the default hidden behavior on the sphinx rendered scikit-learn.org. See: https://github.com/scikit-learn/scikit-learn/issues/21755 */display: inline-block !important;position: relative;}#sk-container-id-1 div.sk-text-repr-fallback {display: none;}</style><div id=\"sk-container-id-1\" class=\"sk-top-container\"><div class=\"sk-text-repr-fallback\"><pre>GridSearchCV(cv=StratifiedKFold(n_splits=5, random_state=23, shuffle=True),\n",
       "             estimator=Pipeline(steps=[(&#x27;scl&#x27;, StandardScaler()),\n",
       "                                       (&#x27;svm&#x27;,\n",
       "                                        SVC(kernel=&#x27;linear&#x27;, probability=True,\n",
       "                                            random_state=23))]),\n",
       "             param_grid={&#x27;svm__C&#x27;: array([1.00000000e-03, 5.56444444e-01, 1.11188889e+00, 1.66733333e+00,\n",
       "       2.22277778e+00, 2.77822222e+00, 3.33366667e+00, 3.88911111e+00,\n",
       "       4.44455556e+00, 5.00000000e+00]),\n",
       "                         &#x27;svm__coef0&#x27;: [0.0, 0.3], &#x27;svm__degree&#x27;: [1, 2, 3]},\n",
       "             scoring=&#x27;neg_log_loss&#x27;, verbose=1)</pre><b>In a Jupyter environment, please rerun this cell to show the HTML representation or trust the notebook. <br />On GitHub, the HTML representation is unable to render, please try loading this page with nbviewer.org.</b></div><div class=\"sk-container\" hidden><div class=\"sk-item sk-dashed-wrapped\"><div class=\"sk-label-container\"><div class=\"sk-label sk-toggleable\"><input class=\"sk-toggleable__control sk-hidden--visually\" id=\"sk-estimator-id-1\" type=\"checkbox\" ><label for=\"sk-estimator-id-1\" class=\"sk-toggleable__label sk-toggleable__label-arrow\">GridSearchCV</label><div class=\"sk-toggleable__content\"><pre>GridSearchCV(cv=StratifiedKFold(n_splits=5, random_state=23, shuffle=True),\n",
       "             estimator=Pipeline(steps=[(&#x27;scl&#x27;, StandardScaler()),\n",
       "                                       (&#x27;svm&#x27;,\n",
       "                                        SVC(kernel=&#x27;linear&#x27;, probability=True,\n",
       "                                            random_state=23))]),\n",
       "             param_grid={&#x27;svm__C&#x27;: array([1.00000000e-03, 5.56444444e-01, 1.11188889e+00, 1.66733333e+00,\n",
       "       2.22277778e+00, 2.77822222e+00, 3.33366667e+00, 3.88911111e+00,\n",
       "       4.44455556e+00, 5.00000000e+00]),\n",
       "                         &#x27;svm__coef0&#x27;: [0.0, 0.3], &#x27;svm__degree&#x27;: [1, 2, 3]},\n",
       "             scoring=&#x27;neg_log_loss&#x27;, verbose=1)</pre></div></div></div><div class=\"sk-parallel\"><div class=\"sk-parallel-item\"><div class=\"sk-item\"><div class=\"sk-label-container\"><div class=\"sk-label sk-toggleable\"><input class=\"sk-toggleable__control sk-hidden--visually\" id=\"sk-estimator-id-2\" type=\"checkbox\" ><label for=\"sk-estimator-id-2\" class=\"sk-toggleable__label sk-toggleable__label-arrow\">estimator: Pipeline</label><div class=\"sk-toggleable__content\"><pre>Pipeline(steps=[(&#x27;scl&#x27;, StandardScaler()),\n",
       "                (&#x27;svm&#x27;,\n",
       "                 SVC(kernel=&#x27;linear&#x27;, probability=True, random_state=23))])</pre></div></div></div><div class=\"sk-serial\"><div class=\"sk-item\"><div class=\"sk-serial\"><div class=\"sk-item\"><div class=\"sk-estimator sk-toggleable\"><input class=\"sk-toggleable__control sk-hidden--visually\" id=\"sk-estimator-id-3\" type=\"checkbox\" ><label for=\"sk-estimator-id-3\" class=\"sk-toggleable__label sk-toggleable__label-arrow\">StandardScaler</label><div class=\"sk-toggleable__content\"><pre>StandardScaler()</pre></div></div></div><div class=\"sk-item\"><div class=\"sk-estimator sk-toggleable\"><input class=\"sk-toggleable__control sk-hidden--visually\" id=\"sk-estimator-id-4\" type=\"checkbox\" ><label for=\"sk-estimator-id-4\" class=\"sk-toggleable__label sk-toggleable__label-arrow\">SVC</label><div class=\"sk-toggleable__content\"><pre>SVC(kernel=&#x27;linear&#x27;, probability=True, random_state=23)</pre></div></div></div></div></div></div></div></div></div></div></div></div>"
      ],
      "text/plain": [
       "GridSearchCV(cv=StratifiedKFold(n_splits=5, random_state=23, shuffle=True),\n",
       "             estimator=Pipeline(steps=[('scl', StandardScaler()),\n",
       "                                       ('svm',\n",
       "                                        SVC(kernel='linear', probability=True,\n",
       "                                            random_state=23))]),\n",
       "             param_grid={'svm__C': array([1.00000000e-03, 5.56444444e-01, 1.11188889e+00, 1.66733333e+00,\n",
       "       2.22277778e+00, 2.77822222e+00, 3.33366667e+00, 3.88911111e+00,\n",
       "       4.44455556e+00, 5.00000000e+00]),\n",
       "                         'svm__coef0': [0.0, 0.3], 'svm__degree': [1, 2, 3]},\n",
       "             scoring='neg_log_loss', verbose=1)"
      ]
     },
     "execution_count": 14,
     "metadata": {},
     "output_type": "execute_result"
    }
   ],
   "source": [
    "svm =SVC(kernel='linear',probability=True,random_state=23)\n",
    "scaler =StandardScaler()\n",
    "kfold=StratifiedKFold(n_splits=5,random_state=23,shuffle=True)\n",
    "pipe=Pipeline([('scl',scaler),('svm',svm)])\n",
    "params ={'svm__C':np.linspace(0.001,5,10),'svm__coef0':[0.0,0.3],'svm__degree':[1,2,3]}\n",
    "gcv =GridSearchCV(pipe,param_grid=params,cv=kfold,scoring='neg_log_loss',verbose=1)\n",
    "gcv.fit(x,y)"
   ]
  },
  {
   "cell_type": "code",
   "execution_count": 15,
   "metadata": {},
   "outputs": [
    {
     "name": "stdout",
     "output_type": "stream",
     "text": [
      "{'svm__C': 2.2227777777777775, 'svm__coef0': 0.0, 'svm__degree': 1}\n",
      "-1.0561656448721597\n"
     ]
    }
   ],
   "source": [
    "print(gcv.best_params_)\n",
    "print(gcv.best_score_)"
   ]
  },
  {
   "cell_type": "code",
   "execution_count": 32,
   "metadata": {},
   "outputs": [],
   "source": [
    "df_test=pd.read_csv('test.csv')\n",
    "df_test\n",
    "Y_final=pd.DataFrame(df_test['Id'],columns=['Id'])"
   ]
  },
  {
   "cell_type": "code",
   "execution_count": 33,
   "metadata": {},
   "outputs": [],
   "source": [
    "df_test.set_index('Id',inplace=True)"
   ]
  },
  {
   "cell_type": "code",
   "execution_count": 35,
   "metadata": {},
   "outputs": [],
   "source": [
    "best_model=gcv.best_estimator_\n",
    "y_pred=pd.DataFrame(best_model.predict(df_test),columns=['quality'])\n",
    "Y_final['quality']=y_pred['quality']\n",
    "Y_final.to_csv(path_or_buf='D:\\Machine_Learning\\Assignment_3\\y_pred_linear_svc_std.csv',index=False)"
   ]
  },
  {
   "cell_type": "markdown",
   "metadata": {},
   "source": [
    "### Linear SVC with Min Max Scaling"
   ]
  },
  {
   "cell_type": "code",
   "execution_count": 36,
   "metadata": {},
   "outputs": [
    {
     "name": "stdout",
     "output_type": "stream",
     "text": [
      "Fitting 5 folds for each of 60 candidates, totalling 300 fits\n"
     ]
    },
    {
     "data": {
      "text/html": [
       "<style>#sk-container-id-2 {color: black;}#sk-container-id-2 pre{padding: 0;}#sk-container-id-2 div.sk-toggleable {background-color: white;}#sk-container-id-2 label.sk-toggleable__label {cursor: pointer;display: block;width: 100%;margin-bottom: 0;padding: 0.3em;box-sizing: border-box;text-align: center;}#sk-container-id-2 label.sk-toggleable__label-arrow:before {content: \"▸\";float: left;margin-right: 0.25em;color: #696969;}#sk-container-id-2 label.sk-toggleable__label-arrow:hover:before {color: black;}#sk-container-id-2 div.sk-estimator:hover label.sk-toggleable__label-arrow:before {color: black;}#sk-container-id-2 div.sk-toggleable__content {max-height: 0;max-width: 0;overflow: hidden;text-align: left;background-color: #f0f8ff;}#sk-container-id-2 div.sk-toggleable__content pre {margin: 0.2em;color: black;border-radius: 0.25em;background-color: #f0f8ff;}#sk-container-id-2 input.sk-toggleable__control:checked~div.sk-toggleable__content {max-height: 200px;max-width: 100%;overflow: auto;}#sk-container-id-2 input.sk-toggleable__control:checked~label.sk-toggleable__label-arrow:before {content: \"▾\";}#sk-container-id-2 div.sk-estimator input.sk-toggleable__control:checked~label.sk-toggleable__label {background-color: #d4ebff;}#sk-container-id-2 div.sk-label input.sk-toggleable__control:checked~label.sk-toggleable__label {background-color: #d4ebff;}#sk-container-id-2 input.sk-hidden--visually {border: 0;clip: rect(1px 1px 1px 1px);clip: rect(1px, 1px, 1px, 1px);height: 1px;margin: -1px;overflow: hidden;padding: 0;position: absolute;width: 1px;}#sk-container-id-2 div.sk-estimator {font-family: monospace;background-color: #f0f8ff;border: 1px dotted black;border-radius: 0.25em;box-sizing: border-box;margin-bottom: 0.5em;}#sk-container-id-2 div.sk-estimator:hover {background-color: #d4ebff;}#sk-container-id-2 div.sk-parallel-item::after {content: \"\";width: 100%;border-bottom: 1px solid gray;flex-grow: 1;}#sk-container-id-2 div.sk-label:hover label.sk-toggleable__label {background-color: #d4ebff;}#sk-container-id-2 div.sk-serial::before {content: \"\";position: absolute;border-left: 1px solid gray;box-sizing: border-box;top: 0;bottom: 0;left: 50%;z-index: 0;}#sk-container-id-2 div.sk-serial {display: flex;flex-direction: column;align-items: center;background-color: white;padding-right: 0.2em;padding-left: 0.2em;position: relative;}#sk-container-id-2 div.sk-item {position: relative;z-index: 1;}#sk-container-id-2 div.sk-parallel {display: flex;align-items: stretch;justify-content: center;background-color: white;position: relative;}#sk-container-id-2 div.sk-item::before, #sk-container-id-2 div.sk-parallel-item::before {content: \"\";position: absolute;border-left: 1px solid gray;box-sizing: border-box;top: 0;bottom: 0;left: 50%;z-index: -1;}#sk-container-id-2 div.sk-parallel-item {display: flex;flex-direction: column;z-index: 1;position: relative;background-color: white;}#sk-container-id-2 div.sk-parallel-item:first-child::after {align-self: flex-end;width: 50%;}#sk-container-id-2 div.sk-parallel-item:last-child::after {align-self: flex-start;width: 50%;}#sk-container-id-2 div.sk-parallel-item:only-child::after {width: 0;}#sk-container-id-2 div.sk-dashed-wrapped {border: 1px dashed gray;margin: 0 0.4em 0.5em 0.4em;box-sizing: border-box;padding-bottom: 0.4em;background-color: white;}#sk-container-id-2 div.sk-label label {font-family: monospace;font-weight: bold;display: inline-block;line-height: 1.2em;}#sk-container-id-2 div.sk-label-container {text-align: center;}#sk-container-id-2 div.sk-container {/* jupyter's `normalize.less` sets `[hidden] { display: none; }` but bootstrap.min.css set `[hidden] { display: none !important; }` so we also need the `!important` here to be able to override the default hidden behavior on the sphinx rendered scikit-learn.org. See: https://github.com/scikit-learn/scikit-learn/issues/21755 */display: inline-block !important;position: relative;}#sk-container-id-2 div.sk-text-repr-fallback {display: none;}</style><div id=\"sk-container-id-2\" class=\"sk-top-container\"><div class=\"sk-text-repr-fallback\"><pre>GridSearchCV(cv=StratifiedKFold(n_splits=5, random_state=23, shuffle=True),\n",
       "             estimator=Pipeline(steps=[(&#x27;scl&#x27;, MinMaxScaler()),\n",
       "                                       (&#x27;svm&#x27;,\n",
       "                                        SVC(kernel=&#x27;linear&#x27;, probability=True,\n",
       "                                            random_state=23))]),\n",
       "             param_grid={&#x27;svm__C&#x27;: array([1.00000000e-03, 5.56444444e-01, 1.11188889e+00, 1.66733333e+00,\n",
       "       2.22277778e+00, 2.77822222e+00, 3.33366667e+00, 3.88911111e+00,\n",
       "       4.44455556e+00, 5.00000000e+00]),\n",
       "                         &#x27;svm__coef0&#x27;: [0.0, 0.3], &#x27;svm__degree&#x27;: [1, 2, 3]},\n",
       "             scoring=&#x27;neg_log_loss&#x27;, verbose=1)</pre><b>In a Jupyter environment, please rerun this cell to show the HTML representation or trust the notebook. <br />On GitHub, the HTML representation is unable to render, please try loading this page with nbviewer.org.</b></div><div class=\"sk-container\" hidden><div class=\"sk-item sk-dashed-wrapped\"><div class=\"sk-label-container\"><div class=\"sk-label sk-toggleable\"><input class=\"sk-toggleable__control sk-hidden--visually\" id=\"sk-estimator-id-5\" type=\"checkbox\" ><label for=\"sk-estimator-id-5\" class=\"sk-toggleable__label sk-toggleable__label-arrow\">GridSearchCV</label><div class=\"sk-toggleable__content\"><pre>GridSearchCV(cv=StratifiedKFold(n_splits=5, random_state=23, shuffle=True),\n",
       "             estimator=Pipeline(steps=[(&#x27;scl&#x27;, MinMaxScaler()),\n",
       "                                       (&#x27;svm&#x27;,\n",
       "                                        SVC(kernel=&#x27;linear&#x27;, probability=True,\n",
       "                                            random_state=23))]),\n",
       "             param_grid={&#x27;svm__C&#x27;: array([1.00000000e-03, 5.56444444e-01, 1.11188889e+00, 1.66733333e+00,\n",
       "       2.22277778e+00, 2.77822222e+00, 3.33366667e+00, 3.88911111e+00,\n",
       "       4.44455556e+00, 5.00000000e+00]),\n",
       "                         &#x27;svm__coef0&#x27;: [0.0, 0.3], &#x27;svm__degree&#x27;: [1, 2, 3]},\n",
       "             scoring=&#x27;neg_log_loss&#x27;, verbose=1)</pre></div></div></div><div class=\"sk-parallel\"><div class=\"sk-parallel-item\"><div class=\"sk-item\"><div class=\"sk-label-container\"><div class=\"sk-label sk-toggleable\"><input class=\"sk-toggleable__control sk-hidden--visually\" id=\"sk-estimator-id-6\" type=\"checkbox\" ><label for=\"sk-estimator-id-6\" class=\"sk-toggleable__label sk-toggleable__label-arrow\">estimator: Pipeline</label><div class=\"sk-toggleable__content\"><pre>Pipeline(steps=[(&#x27;scl&#x27;, MinMaxScaler()),\n",
       "                (&#x27;svm&#x27;,\n",
       "                 SVC(kernel=&#x27;linear&#x27;, probability=True, random_state=23))])</pre></div></div></div><div class=\"sk-serial\"><div class=\"sk-item\"><div class=\"sk-serial\"><div class=\"sk-item\"><div class=\"sk-estimator sk-toggleable\"><input class=\"sk-toggleable__control sk-hidden--visually\" id=\"sk-estimator-id-7\" type=\"checkbox\" ><label for=\"sk-estimator-id-7\" class=\"sk-toggleable__label sk-toggleable__label-arrow\">MinMaxScaler</label><div class=\"sk-toggleable__content\"><pre>MinMaxScaler()</pre></div></div></div><div class=\"sk-item\"><div class=\"sk-estimator sk-toggleable\"><input class=\"sk-toggleable__control sk-hidden--visually\" id=\"sk-estimator-id-8\" type=\"checkbox\" ><label for=\"sk-estimator-id-8\" class=\"sk-toggleable__label sk-toggleable__label-arrow\">SVC</label><div class=\"sk-toggleable__content\"><pre>SVC(kernel=&#x27;linear&#x27;, probability=True, random_state=23)</pre></div></div></div></div></div></div></div></div></div></div></div></div>"
      ],
      "text/plain": [
       "GridSearchCV(cv=StratifiedKFold(n_splits=5, random_state=23, shuffle=True),\n",
       "             estimator=Pipeline(steps=[('scl', MinMaxScaler()),\n",
       "                                       ('svm',\n",
       "                                        SVC(kernel='linear', probability=True,\n",
       "                                            random_state=23))]),\n",
       "             param_grid={'svm__C': array([1.00000000e-03, 5.56444444e-01, 1.11188889e+00, 1.66733333e+00,\n",
       "       2.22277778e+00, 2.77822222e+00, 3.33366667e+00, 3.88911111e+00,\n",
       "       4.44455556e+00, 5.00000000e+00]),\n",
       "                         'svm__coef0': [0.0, 0.3], 'svm__degree': [1, 2, 3]},\n",
       "             scoring='neg_log_loss', verbose=1)"
      ]
     },
     "execution_count": 36,
     "metadata": {},
     "output_type": "execute_result"
    }
   ],
   "source": [
    "svm =SVC(kernel='linear',probability=True,random_state=23)\n",
    "scaler =MinMaxScaler()\n",
    "kfold=StratifiedKFold(n_splits=5,random_state=23,shuffle=True)\n",
    "pipe=Pipeline([('scl',scaler),('svm',svm)])\n",
    "params ={'svm__C':np.linspace(0.001,5,10),'svm__coef0':[0.0,0.3],'svm__degree':[1,2,3]}\n",
    "gcv =GridSearchCV(pipe,param_grid=params,cv=kfold,scoring='neg_log_loss',verbose=1)\n",
    "gcv.fit(x,y)"
   ]
  },
  {
   "cell_type": "code",
   "execution_count": 37,
   "metadata": {},
   "outputs": [
    {
     "name": "stdout",
     "output_type": "stream",
     "text": [
      "{'svm__C': 2.2227777777777775, 'svm__coef0': 0.0, 'svm__degree': 1}\n",
      "-1.0594821507201968\n"
     ]
    }
   ],
   "source": [
    "print(gcv.best_params_)\n",
    "print(gcv.best_score_)"
   ]
  },
  {
   "cell_type": "code",
   "execution_count": 38,
   "metadata": {},
   "outputs": [],
   "source": [
    "df_test=pd.read_csv('test.csv')\n",
    "df_test\n",
    "Y_final=pd.DataFrame(df_test['Id'],columns=['Id'])"
   ]
  },
  {
   "cell_type": "code",
   "execution_count": 39,
   "metadata": {},
   "outputs": [],
   "source": [
    "df_test.set_index('Id',inplace=True)"
   ]
  },
  {
   "cell_type": "code",
   "execution_count": 40,
   "metadata": {},
   "outputs": [],
   "source": [
    "best_model=gcv.best_estimator_\n",
    "y_pred=pd.DataFrame(best_model.predict(df_test),columns=['quality'])\n",
    "Y_final['quality']=y_pred['quality']\n",
    "Y_final.to_csv(path_or_buf='D:\\Machine_Learning\\Assignment_3\\y_pred_linear_svc_MinMax.csv',index=False)"
   ]
  },
  {
   "cell_type": "markdown",
   "metadata": {},
   "source": [
    "### Radial SVC with Standard Scaling"
   ]
  },
  {
   "cell_type": "code",
   "execution_count": 44,
   "metadata": {},
   "outputs": [
    {
     "name": "stdout",
     "output_type": "stream",
     "text": [
      "Fitting 5 folds for each of 70 candidates, totalling 350 fits\n",
      "{'svm__C': 1.2507499999999998, 'svm__decision_function_shape': 'ovr', 'svm__gamma': 'scale'}\n",
      "-1.041374782253892\n"
     ]
    }
   ],
   "source": [
    "svm =SVC(kernel='rbf',probability=True,random_state=23)\n",
    "scaler =StandardScaler()\n",
    "kfold=StratifiedKFold(n_splits=5,random_state=23,shuffle=True)\n",
    "pipe=Pipeline([('scl',scaler),('svm',svm)])\n",
    "params={'svm__C':np.linspace(0.001,5,5),'svm__gamma':list(np.linspace(0.001,5,5))+['scale','auto'],'svm__decision_function_shape':['ovr','ovo']}\n",
    "gcv=GridSearchCV(pipe,param_grid=params,cv=kfold,scoring='neg_log_loss',verbose=1)\n",
    "gcv.fit(x,y)\n",
    "\n",
    "print(gcv.best_params_)\n",
    "print(gcv.best_score_)\n",
    "\n",
    "df_test=pd.read_csv('test.csv')\n",
    "df_test\n",
    "Y_final=pd.DataFrame(df_test['Id'],columns=['Id'])\n",
    "\n",
    "df_test.set_index('Id',inplace=True)\n",
    "\n",
    "best_model=gcv.best_estimator_\n",
    "y_pred=pd.DataFrame(best_model.predict(df_test),columns=['quality'])\n",
    "Y_final['quality']=y_pred['quality']\n",
    "Y_final.to_csv(path_or_buf='D:\\Machine_Learning\\Assignment_3\\y_pred_Radial_svc_std.csv',index=False)"
   ]
  },
  {
   "cell_type": "code",
   "execution_count": 45,
   "metadata": {},
   "outputs": [
    {
     "name": "stdout",
     "output_type": "stream",
     "text": [
      "Fitting 5 folds for each of 70 candidates, totalling 350 fits\n",
      "{'svm__C': 2.5004999999999997, 'svm__decision_function_shape': 'ovr', 'svm__gamma': 1.2507499999999998}\n",
      "-1.032222399630395\n"
     ]
    }
   ],
   "source": [
    "svm =SVC(kernel='rbf',probability=True,random_state=23)\n",
    "scaler =MinMaxScaler()\n",
    "kfold=StratifiedKFold(n_splits=5,random_state=23,shuffle=True)\n",
    "pipe=Pipeline([('scl',scaler),('svm',svm)])\n",
    "params={'svm__C':np.linspace(0.001,5,5),'svm__gamma':list(np.linspace(0.001,5,5))+['scale','auto'],'svm__decision_function_shape':['ovr','ovo']}\n",
    "gcv=GridSearchCV(pipe,param_grid=params,cv=kfold,scoring='neg_log_loss',verbose=1)\n",
    "gcv.fit(x,y)\n",
    "\n",
    "print(gcv.best_params_)\n",
    "print(gcv.best_score_)\n",
    "\n",
    "df_test=pd.read_csv('test.csv')\n",
    "df_test\n",
    "Y_final=pd.DataFrame(df_test['Id'],columns=['Id'])\n",
    "\n",
    "df_test.set_index('Id',inplace=True)\n",
    "\n",
    "best_model=gcv.best_estimator_\n",
    "y_pred=pd.DataFrame(best_model.predict(df_test),columns=['quality'])\n",
    "Y_final['quality']=y_pred['quality']\n",
    "Y_final.to_csv(path_or_buf='D:\\Machine_Learning\\Assignment_3\\y_pred_Radial_svc_MinMax.csv',index=False)"
   ]
  }
 ],
 "metadata": {
  "kernelspec": {
   "display_name": "base",
   "language": "python",
   "name": "python3"
  },
  "language_info": {
   "codemirror_mode": {
    "name": "ipython",
    "version": 3
   },
   "file_extension": ".py",
   "mimetype": "text/x-python",
   "name": "python",
   "nbconvert_exporter": "python",
   "pygments_lexer": "ipython3",
   "version": "3.11.4"
  }
 },
 "nbformat": 4,
 "nbformat_minor": 2
}
